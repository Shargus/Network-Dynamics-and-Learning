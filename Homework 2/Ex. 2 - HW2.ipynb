{
 "cells": [
  {
   "cell_type": "markdown",
   "metadata": {},
   "source": [
    "## Problem 2"
   ]
  },
  {
   "cell_type": "markdown",
   "metadata": {},
   "source": [
    "In this part we will again consider the network of the previous exercise, with weights according to transition matrix Lambda (see Lambda in the code below).\n",
    "However, now we will simulate many particles moving around in the network in continuous time."
   ]
  },
  {
   "cell_type": "code",
   "execution_count": null,
   "metadata": {},
   "outputs": [],
   "source": [
    "##### Setup\n",
    "import numpy as np\n",
    "from numpy.random import choice\n",
    "from copy import deepcopy\n",
    "import matplotlib.pyplot as plt\n",
    "\n",
    "# Define the mapping between 0,1,2,3,4 and o,a,b,c,d\n",
    "mapping = {'o':0, 'a':1, 'b':2, 'c':3, 'd':4}\n",
    "reverse_mapping = {0:'o', 1:'a', 2:'b', 3:'c', 4:'d'}\n",
    "\n",
    "# Create Lambda\n",
    "Lambda = [\n",
    "    [0, 2/5, 1/5, 0, 0],\n",
    "    [0, 0, 3/4, 1/4, 0],\n",
    "    [1/2, 0, 0, 1/2, 0],\n",
    "    [0, 0, 1/3, 0, 2/3],\n",
    "    [0, 1/3, 0, 1/3, 0]]\n",
    "\n",
    "# Define Q, the transition matrix associated to the jump chain associated to the CTMC\n",
    "w = np.sum(Lambda, axis=1)\n",
    "w_star = np.max(w)\n",
    "Q = Lambda/w_star \n",
    "Q = Q + np.diag(np.ones(len(w))-np.sum(Q,axis=1))\n",
    "print(\"Q matrix:\\n\", Q)\n"
   ]
  },
  {
   "cell_type": "markdown",
   "metadata": {},
   "source": [
    "### a) Particle perspective\n",
    "**a.i) If 100 particles all start in node a, what is the average time for a particle to return to\n",
    "node a?**\n",
    "\n",
    "N.B.: I interpreted this request as: \"what is the average minimum time for at least one particle to leave and return to node a? I.e., what is the average minimum return time to node a, among the 100 particles?"
   ]
  },
  {
   "cell_type": "code",
   "execution_count": null,
   "metadata": {},
   "outputs": [],
   "source": [
    "def return_time_100_particles(xi):\n",
    "    '''\n",
    "    This function simulates 100 particles doing a random walk, starting in node xi of a graph with associated transition matrix Q\n",
    "    The algorithm stops when at least one particle has left and then has returned to xi.\n",
    "    \n",
    "    Returns:\n",
    "        time: time instant at which one of the particles has returned to xi, after having left it\n",
    "    '''\n",
    "    n_nodes = len(Q)\n",
    "    time = 0    # global clock time\n",
    "    rate = 100 * w_star\n",
    "    current_state = [ xi for _ in range(100) ]    # a list with 100 values; the i-th value is the node in which the i-th particle is, before the next jump\n",
    "    t_next = -np.log(np.random.rand())/rate    # the random time to wait for the next transition is drawn from a rate-(100*w_star) exponential distribution\n",
    "    \n",
    "    while True:\n",
    "        # Choose at random (uniformly) one of the 100 particles\n",
    "        moving_particle = choice(range(100), size=1)[0]\n",
    "        # Random jump:\n",
    "        # the next state that moving_particle will visit will be extracted according to the probabilities\n",
    "        # stored in the row of Q corresponding to moving_particle's current state, current_state[moving_particle]\n",
    "        mov_part_curr_state = current_state[moving_particle]    # the last node that the moving particle was in\n",
    "        new_state = choice(range(n_nodes), size=1, p=Q[mov_part_curr_state])[0]\n",
    "        if new_state != mov_part_curr_state:    # jump\n",
    "            current_state[moving_particle] = new_state\n",
    "            time = time + t_next    # store the time instant of the current transition\n",
    "            t_next = -np.log(np.random.rand())/rate\n",
    "        else:    # do not jump, stay in the node: in this case, we still have to wait to jump\n",
    "            t_next = t_next + -np.log(np.random.rand())/rate\n",
    "        if new_state == xi and mov_part_curr_state != xi:    # stopping criterion\n",
    "            return time    # a particle (in particular moving_particle) has returned to xi: the algorithm stops\n"
   ]
  },
  {
   "cell_type": "code",
   "execution_count": null,
   "metadata": {},
   "outputs": [],
   "source": [
    "# Compute the average minimum return time to node a, among the 100 particles\n",
    "# (the simulation is performed 1000 times, so the average is computed over 1000 samples)\n",
    "n_rnd_walks = 1000\n",
    "return_times_sample = np.array([return_time_100_particles(mapping['a']) for _ in range(n_rnd_walks)])\n",
    "avg_return_time = return_times_sample.mean()\n",
    "\n",
    "print(\"Average time for the first particle to return to a:\", avg_return_time)"
   ]
  },
  {
   "cell_type": "markdown",
   "metadata": {},
   "source": [
    "### b) Node perspective\n",
    "**b.i) If 100 particles start in node o, and the system is simulated for 60 time units, what is\n",
    "the average number of particles in the different nodes at the end of the simulation?**"
   ]
  },
  {
   "cell_type": "code",
   "execution_count": null,
   "metadata": {},
   "outputs": [],
   "source": [
    "def simulate_100_particles_60_time_units(xi):\n",
    "    '''\n",
    "    This function simulates 100 particles doing a random walk for 60 time units, starting in node xi of a graph with associated transition matrix Q\n",
    "    \n",
    "    Returns:\n",
    "        node_distribution: a list of quintuples;\n",
    "                           node_distribution[i] is the distribution of the 100 particles on the len(Q)=5 nodes,\n",
    "                           in the time interval ( transition_times[i], transition_times[i+1] )\n",
    "        transition_times: a list of values;\n",
    "                          transition_times[i], for i!=-1, is the time instant in which the i-th transition happens\n",
    "                          transition_times[-1] is t=60.\n",
    "    '''\n",
    "    n_nodes = len(Q)\n",
    "    time = 0    # global clock time\n",
    "    time_limit = 60    # time units for which the simulation lasts\n",
    "    transition_times = [0]    # this will store the time instants in which jumps are taken (i.e. in which the global clock ticks)\n",
    "    rate = 100 * w_star\n",
    "    t_next = -np.log(np.random.rand())/rate    # the random time to wait for the next transition is drawn from a rate-(100*w_star) exponential distribution\n",
    "\n",
    "    node_distribution = [ [100 if i==xi else 0 for i in range(n_nodes)] ]    # a list which will contain lists, each containing five values (the n. of particles in each of the five nodes)\n",
    "                                                                             # one list is appended when a particle is moved, to record the new distribution of particles\n",
    "    while time + t_next <= time_limit:\n",
    "        # Select a node at random, proportionally to the number of particles in the different nodes \n",
    "        current_node_distribution = node_distribution[-1]\n",
    "        probs = [current_node_distribution[i] / 100 for i in range(n_nodes)]\n",
    "        node = choice(range(n_nodes), size=1, p=probs)[0]\n",
    "        # Random jump:\n",
    "        # move a particle from node node to a neighboring node, with probabilities given by the row of Q corresponding to node node\n",
    "        new_node = choice(range(n_nodes), size=1, p=Q[node])[0]\n",
    "        new_node_distribution = deepcopy(current_node_distribution)\n",
    "        new_node_distribution[node] -= 1    # NB: it doesn't matter if node and new_node coincide\n",
    "        new_node_distribution[new_node] += 1\n",
    "        node_distribution.append(new_node_distribution)\n",
    "\n",
    "        time = time + t_next    # time instant of the jump just occurred\n",
    "        transition_times.append(time)\n",
    "        \n",
    "        t_next = -np.log(np.random.rand())/rate    # the random time to wait for the next transition\n",
    "        \n",
    "    else:\n",
    "        # t=60 seconds have passed; the simulation stops\n",
    "        # Append the final distribution to node_distribution and 60 to transition_times\n",
    "        # (this is done to correctly plot the n. of particles in each node during the simulation)\n",
    "        node_distribution.append(node_distribution[-1])\n",
    "        transition_times.append(60)\n",
    "        \n",
    "    return (node_distribution, transition_times)\n"
   ]
  },
  {
   "cell_type": "code",
   "execution_count": null,
   "metadata": {},
   "outputs": [],
   "source": [
    "# Compute the average final (t=60) distribution of the 100 particles over the 5 nodes of the network\n",
    "# (the simulation is performed 200 times, so the average is computed over 200 samples)\n",
    "n_rnd_walks = 200\n",
    "\n",
    "distribution_transitions_sample = [simulate_100_particles_60_time_units(mapping['o']) for _ in range(n_rnd_walks)]    # 200 couples\n",
    "distribution_sample = [i[0] for i in distribution_transitions_sample]    # a list containing 200 lists; the i-th inner list contains node_distribution of the i-th simulation\n",
    "transition_times_sample = [i[1] for i in distribution_transitions_sample]    # a list containing 200 lists; the i-th inner list contains transition_times of the i-th simulation\n",
    "\n",
    "final_distribution_sample = []    # this list will contain only the distributions at t=60 of the 200 simulations\n",
    "for d in distribution_sample:\n",
    "    final_d = d[-1]\n",
    "    final_distribution_sample.append(final_d)\n",
    "avg_final_distribution = np.array(final_distribution_sample).mean(axis=0)\n",
    "\n",
    "print(\"Average final distribution of particles over the nodes\", avg_final_distribution)"
   ]
  },
  {
   "cell_type": "markdown",
   "metadata": {},
   "source": [
    "Average final distribution of particles over the nodes [18.558 14.695 22.425 22.167 22.155] $\\approx 100 \\overline{\\pi}$"
   ]
  },
  {
   "cell_type": "markdown",
   "metadata": {},
   "source": [
    "**b.ii) Illustrate the simulation above with a plot showing the number of particles in each node during the simulation time.**\n",
    "\n",
    "N.B.: I focus on just one of the 200 simulations performed previously, for instance the first one"
   ]
  },
  {
   "cell_type": "code",
   "execution_count": null,
   "metadata": {},
   "outputs": [],
   "source": [
    "# Take node_distribution and transition_times of the first of the 200 simulations\n",
    "node_distribution = np.array(distribution_sample[0])\n",
    "transition_times = deepcopy(transition_times_sample[0])\n",
    "    \n",
    "fig = plt.figure(1, figsize=(16,8))\n",
    "ax = plt.subplot()\n",
    "for node in range(len(Q)):\n",
    "    ax.plot(transition_times, node_distribution[:,node], label=f'node {reverse_mapping[node]}')    # label=f'node {reverse_mapping[node]}'\n",
    "    \n",
    "ax.legend(prop={'size': 20})"
   ]
  },
  {
   "cell_type": "markdown",
   "metadata": {},
   "source": [
    "**b.iii) Compare the simulation result in the first point above with the stationary distribution of the continuous-time random walk followed by the single particles.**"
   ]
  },
  {
   "cell_type": "code",
   "execution_count": null,
   "metadata": {},
   "outputs": [],
   "source": [
    "# The stationary distribution pi bar has been already computed in problem 1;\n",
    "# here I just repeat that code\n",
    "\n",
    "# Find pi bar, the (unique) stationary probability vector\n",
    "values,vectors = np.linalg.eig(Q.T)\n",
    "index = np.argmax(values.real)\n",
    "pi_bar = vectors[:,index].real\n",
    "pi_bar = pi_bar/np.sum(pi_bar)\n",
    "print(\"pi_bar =\", pi_bar)"
   ]
  },
  {
   "cell_type": "markdown",
   "metadata": {},
   "source": [
    "As noticed previously, it seems that the average final distribution is approximately $100 \\overline{\\pi}$. This result has been justified in the report."
   ]
  }
 ],
 "metadata": {
  "kernelspec": {
   "display_name": "Python 3",
   "language": "python",
   "name": "python3"
  },
  "language_info": {
   "codemirror_mode": {
    "name": "ipython",
    "version": 3
   },
   "file_extension": ".py",
   "mimetype": "text/x-python",
   "name": "python",
   "nbconvert_exporter": "python",
   "pygments_lexer": "ipython3",
   "version": "3.7.4"
  }
 },
 "nbformat": 4,
 "nbformat_minor": 2
}
