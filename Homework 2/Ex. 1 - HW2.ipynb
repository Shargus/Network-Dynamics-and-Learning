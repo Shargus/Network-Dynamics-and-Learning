{
 "cells": [
  {
   "cell_type": "markdown",
   "metadata": {},
   "source": [
    "## Problem 1"
   ]
  },
  {
   "cell_type": "markdown",
   "metadata": {},
   "source": [
    "The first part of this assignment consists in studying a single particle performing a continuous-time random walk in the network described by the graph in Fig. 1 (see text) and with the following transition rate matrix (see Lambda in the code below).\n",
    "\n",
    "Your task is to simulate the particle moving around in the network in continuous time according to the transition rate matrix given."
   ]
  },
  {
   "cell_type": "code",
   "execution_count": null,
   "metadata": {},
   "outputs": [],
   "source": [
    "##### Setup\n",
    "import numpy as np\n",
    "from numpy.random import choice\n",
    "\n",
    "# Define the mapping between 0,1,2,3,4 and o,a,b,c,d\n",
    "mapping = {'o':0, 'a':1, 'b':2, 'c':3, 'd':4}\n",
    "\n",
    "# Create Lambda\n",
    "Lambda = [\n",
    "    [0, 2/5, 1/5, 0, 0],\n",
    "    [0, 0, 3/4, 1/4, 0],\n",
    "    [1/2, 0, 0, 1/2, 0],\n",
    "    [0, 0, 1/3, 0, 2/3],\n",
    "    [0, 1/3, 0, 1/3, 0]]\n",
    "\n",
    "# Define Q, the transition matrix associated to the jump chain associated to the CTMC\n",
    "w = np.sum(Lambda, axis=1)\n",
    "w_star = np.max(w)\n",
    "Q = Lambda/w_star \n",
    "Q = Q + np.diag(np.ones(len(w))-np.sum(Q,axis=1))\n",
    "print(\"Q matrix:\\n\", Q)\n",
    "\n",
    "# Define the random walk simulation function\n",
    "def random_walk(Q, xi, n_steps=100, until_first_return = False, until_S_hit=False, S=[0]):\n",
    "    '''\n",
    "    This function simulates a random walk of a particle starting in node xi of a graph with associated transition matrix Q\n",
    "    \n",
    "    Parameters:\n",
    "        until_first_return: if True, the random walk stops when the particle has stepped out of xi at least once and then returns to xi\n",
    "        until_S_hit: if True, the random walk stops when the particle hits a node contained in S\n",
    "        n_steps, if both until_first_return and until_S_hit are false, the random walk stops when the particle has jumped n_steps times\n",
    "    \n",
    "    Returns:\n",
    "        node_seq: sequence of nodes hit by the particle during its random walk\n",
    "        transition_times: time instants in which the particle has jumped\n",
    "    '''\n",
    "    n_nodes = len(Q)\n",
    "    node_seq = [xi]    # node_seq will keep trace of the visited states; start from node xi\n",
    "    transition_times = [0]    # transition_times will store the time instants at which jumps/transitions happen; at t=0 the random agent is in node xi\n",
    "    t_next = -np.log(np.random.rand())/w_star    # the random time to wait for the next transition is drawn from a rate-w_star exponential distribution\n",
    "    x_start = xi    # starting node\n",
    "    transition_time = 0    # t=0\n",
    "    \n",
    "    if until_first_return:\n",
    "        while True:\n",
    "            # Random jump:\n",
    "            # the next state to visit will be extracted according to the probabilities\n",
    "            # stored in the row of Q corresponding to the current state, node_seq[-1]\n",
    "            old_xi = xi\n",
    "            xi = choice(range(n_nodes), size=1, p=Q[xi])[0]\n",
    "            if xi != old_xi:\n",
    "                node_seq.append(xi)\n",
    "                transition_time = transition_time + t_next    # store the time instant of the current transition\n",
    "                transition_times.append(transition_time)\n",
    "                t_next = -np.log(np.random.rand())/w_star\n",
    "            else:    # do not jump, stay in the node: in this case, we still have to wait to jump\n",
    "                t_next = t_next + -np.log(np.random.rand())/w_star\n",
    "            if xi == x_start and transition_time!=0:    # stopping criterion\n",
    "                return node_seq, transition_times\n",
    "    \n",
    "    elif until_S_hit:\n",
    "        if x_start in S:\n",
    "            return node_seq, transition_times\n",
    "        while True:\n",
    "            # Random jump:\n",
    "            # the next state to visit will be extracted according to the probabilities\n",
    "            # stored in the row of Q corresponding to the current state, node_seq[-1]\n",
    "            old_xi = xi\n",
    "            xi = choice(range(n_nodes), size=1, p=Q[xi])[0]\n",
    "            if xi != old_xi:\n",
    "                node_seq.append(xi)\n",
    "                transition_time = transition_time + t_next    # store the time instant of the current transition\n",
    "                transition_times.append(transition_time)\n",
    "                if xi in S:    # stopping criterion: the particle has hit S\n",
    "                    return node_seq, transition_times\n",
    "                else:    # continue the simulation\n",
    "                    t_next = -np.log(np.random.rand())/w_star\n",
    "            else:    # in this case, we still have to wait to jump\n",
    "                t_next = t_next + -np.log(np.random.rand())/w_star\n",
    "                \n",
    "    else:\n",
    "        for _ in range(n_steps):\n",
    "            # Random jump:\n",
    "            # the next state to visit will be extracted according to the probabilities\n",
    "            # stored in the row of Q corresponding to the current state, node_seq[-1]\n",
    "            old_xi = xi\n",
    "            xi = choice(range(n_nodes), size=1, p=Q[xi])[0]\n",
    "            if xi != old_xi:\n",
    "                node_seq.append(xi)\n",
    "                transition_time = transition_time + t_next    # store the time instant of the current transition\n",
    "                transition_times.append(transition_time)\n",
    "                t_next = -np.log(np.random.rand())/w_star\n",
    "            else:    # in this case, we still have to wait to jump\n",
    "                t_next = t_next + -np.log(np.random.rand())/w_star\n",
    "        return node_seq, transition_times\n"
   ]
  },
  {
   "cell_type": "markdown",
   "metadata": {},
   "source": [
    "**a) What is, according to the simulations, the average time it takes a particle that starts in node a to leave the node and then return to it?**"
   ]
  },
  {
   "cell_type": "code",
   "execution_count": null,
   "metadata": {},
   "outputs": [],
   "source": [
    "def estimate_avg_return_times(Q, n_rnd_walks=100):\n",
    "    ''' This function estimates the average return times of the len(Q) = 5 nodes of the network '''\n",
    "    n_nodes = len(Q)\n",
    "    return_times = np.zeros(n_nodes)\n",
    "    \n",
    "    for node in range(n_nodes):    # for each node of G\n",
    "        return_times_sample = []\n",
    "        for _ in range(n_rnd_walks):\n",
    "            _, transition_times = random_walk(Q, node, until_first_return = True)\n",
    "            return_times_sample.append(transition_times[-1])\n",
    "        return_times[node] = np.array(return_times_sample).mean()\n",
    "    return return_times\n",
    "\n",
    "\n",
    "# Compute the average return times to each of the five nodes\n",
    "# (the simulation is performed 1000 times, so the average is computed over 1000 samples)\n",
    "avg_return_times = estimate_avg_return_times(Q, n_rnd_walks=1000)\n",
    "print(\"Return times:\", avg_return_times)\n",
    "\n",
    "# Get the average return time of node a\n",
    "avg_return_time_a = avg_return_times[mapping['a']]\n",
    "print(\"Return time of node a:\", avg_return_time_a)\n"
   ]
  },
  {
   "cell_type": "markdown",
   "metadata": {},
   "source": [
    "**b) How does the result in a) compare to the theoretical return time $\\mathbb{E}_{a}[T^{+}_{a}]$?**"
   ]
  },
  {
   "cell_type": "code",
   "execution_count": null,
   "metadata": {},
   "outputs": [],
   "source": [
    "# Find pi bar, the (unique) stationary probability vector\n",
    "values,vectors = np.linalg.eig(Q.T)\n",
    "index = np.argmax(values.real)\n",
    "pi_bar = vectors[:,index].real\n",
    "pi_bar = pi_bar/np.sum(pi_bar)\n",
    "print(\"pi_bar =\", pi_bar)\n",
    "\n",
    "# Compute expected return times (using Kac's formula in continuous time)\n",
    "expected_return_times = 1/(pi_bar * w)\n",
    "print(\"Expected return times:\", expected_return_times)\n",
    "\n",
    "# Get the expected return time of node a\n",
    "expected_return_time_a = expected_return_times[mapping['a']]\n",
    "print(\"Return time of node a:\", expected_return_time_a)"
   ]
  },
  {
   "cell_type": "markdown",
   "metadata": {},
   "source": [
    "**c) What is, according to the simulations, the average time it takes to move from node o to node\n",
    "d?**"
   ]
  },
  {
   "cell_type": "code",
   "execution_count": null,
   "metadata": {},
   "outputs": [],
   "source": [
    "def estimate_avg_hitting_times(Q, S, n_rnd_walks=100):\n",
    "    ''' This function estimates the average hitting times of the len(Q) = 5 nodes of the network related to the set of nodes S '''\n",
    "    n_nodes = len(Q)\n",
    "    hitting_times = np.zeros(n_nodes)\n",
    "\n",
    "    for node in range(n_nodes):    # for each node of G\n",
    "        hitting_times_sample = []\n",
    "        for _ in range(n_rnd_walks):\n",
    "            _, transition_times = random_walk(Q, node, until_S_hit=True, S=S)\n",
    "            hitting_times_sample.append(transition_times[-1])\n",
    "        hitting_times[node] = np.array(hitting_times_sample).mean()\n",
    "    return hitting_times\n",
    "    \n",
    "S = [mapping['d']]\n",
    "avg_hitting_times = estimate_avg_hitting_times(Q, S, n_rnd_walks=1000)\n",
    "print(\"Average hitting times related to node d:\", avg_hitting_times)\n",
    "\n",
    "avg_hitting_time_o = avg_hitting_times[mapping['o']]\n",
    "print(\"Average hitting time of node o related to node d\", avg_hitting_time_o)"
   ]
  },
  {
   "cell_type": "markdown",
   "metadata": {},
   "source": [
    "**d) How does the result in c) compare to the theoretical hitting-time $\\mathbb{E}_{o}[T_{d}]$? (Describe also how\n",
    "this is computed.)**"
   ]
  },
  {
   "cell_type": "code",
   "execution_count": null,
   "metadata": {},
   "outputs": [],
   "source": [
    "# Define P, the transition matrix whose i-th row contains the transition probabilities from node i to its neighbors\n",
    "# (no self-loops added, as in Q)\n",
    "w = np.sum(Lambda, axis=1)    # node-clock rates\n",
    "P = Lambda/(w.reshape(-1,1))    # normalization\n",
    "\n",
    "# Compute expected hitting times related to d\n",
    "A = np.eye(len(Q))-P    # (I-P) matrix of coefficients\n",
    "A[4] = np.array([0,0,0,0,1])\n",
    "b = 1/w    # (1/w_o, 1/w_a, ..., 1/w_d) vector of constant terms\n",
    "b[4] = 0\n",
    "expected_hitting_times = np.linalg.solve(A,b)\n",
    "print(\"Expected hitting times related to node d:\", expected_hitting_times)\n",
    "\n",
    "# Get the expected hitting time of node o related to d\n",
    "expected_hitting_time_o = expected_hitting_times[mapping['o']]\n",
    "print(\"Expected hitting time of node o related to node d:\", expected_hitting_time_o)"
   ]
  }
 ],
 "metadata": {
  "kernelspec": {
   "display_name": "Python 3",
   "language": "python",
   "name": "python3"
  },
  "language_info": {
   "codemirror_mode": {
    "name": "ipython",
    "version": 3
   },
   "file_extension": ".py",
   "mimetype": "text/x-python",
   "name": "python",
   "nbconvert_exporter": "python",
   "pygments_lexer": "ipython3",
   "version": "3.7.4"
  }
 },
 "nbformat": 4,
 "nbformat_minor": 2
}
